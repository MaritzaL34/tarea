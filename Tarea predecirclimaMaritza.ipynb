{
  "nbformat": 4,
  "nbformat_minor": 0,
  "metadata": {
    "colab": {
      "provenance": [],
      "include_colab_link": true
    },
    "kernelspec": {
      "name": "python3",
      "display_name": "Python 3"
    },
    "language_info": {
      "name": "python"
    }
  },
  "cells": [
    {
      "cell_type": "markdown",
      "metadata": {
        "id": "view-in-github",
        "colab_type": "text"
      },
      "source": [
        "<a href=\"https://colab.research.google.com/github/MaritzaL34/tarea/blob/main/Tarea%20predecirclimaMaritza.ipynb\" target=\"_parent\"><img src=\"https://colab.research.google.com/assets/colab-badge.svg\" alt=\"Open In Colab\"/></a>"
      ]
    },
    {
      "cell_type": "code",
      "execution_count": 27,
      "metadata": {
        "id": "l3x0O-h-NeXS",
        "colab": {
          "base_uri": "https://localhost:8080/"
        },
        "outputId": "20c11d65-dbbc-4c50-b48b-f626f8f0650a"
      },
      "outputs": [
        {
          "output_type": "stream",
          "name": "stdout",
          "text": [
            "Saludos! Le mostrare los días de alta probabilidad de lluvia... para saber esto: Indique el password TIENES 3 INTENTOS: test_password\n",
            "Verificando password.. Password correcto.\n",
            "Sábado hay alta probabilidad de lluvia\n"
          ]
        }
      ],
      "source": [
        "import random\n",
        "\n",
        "def password_check(ne):\n",
        "  ni=3\n",
        "  mi_password= \"test_password\"\n",
        "\n",
        "\n",
        "  el_texto = input(\"Saludos! Le mostrare los días de alta probabilidad de lluvia... para saber esto: Indique el password TIENES 3 INTENTOS: \")\n",
        "  print(\"Verificando password..\", end=\" \")\n",
        "\n",
        "  while el_texto != mi_password:\n",
        "    ne = ne + 1\n",
        "    if(ne < 3):\n",
        "      print(f\"Password Incorrecto. Quedan {ni-ne} intentos\")\n",
        "      el_texto = input(\"Indique password: \")\n",
        "    if(ne > 3):\n",
        "      Salida= input(\"Demasiados intentos, volver a intentarlo\")\n",
        "      exit( )\n",
        "  else:\n",
        "\n",
        "    print(\"Password correcto.\")\n",
        "\n",
        "\n",
        "password_check(0)\n",
        "\n",
        "\n",
        "def genera_lista(num_elementos,v_min, v_max):\n",
        "  lista = []\n",
        "  for i in range(0,num_elementos):\n",
        "    valor= random.randint(v_min,v_max)\n",
        "    lista.append(valor)\n",
        "  return lista;\n",
        "\n",
        "n_dias = 7\n",
        "\n",
        "lista_temp_min =genera_lista(n_dias,10,25)\n",
        "lista_temp_max =genera_lista(n_dias,25,35)\n",
        "lista_humedad_min =genera_lista(n_dias,20,50)\n",
        "lista_humedad_max =genera_lista(n_dias,50,80)\n",
        "\n",
        "def valor_medio_listas(lista_uno,lista_dos):\n",
        "  lista_out =[]\n",
        "  for i in range(0,len(lista_uno)):\n",
        "    v_medio = (lista_uno[1]+lista_dos[i]/2)\n",
        "    lista_out.append(v_medio)\n",
        "  return lista_out\n",
        "\n",
        "lista_media_temp = valor_medio_listas(lista_temp_min,lista_temp_max)\n",
        "lista_media_humedad = valor_medio_listas(lista_humedad_min,lista_humedad_max)\n",
        "\n",
        "if lista_media_temp[0] <25 and lista_media_humedad[0]>50:\n",
        "  print(\"Lunes hay alta probabilidad de lluvia\")\n",
        "\n",
        "elif lista_media_temp[1] <25 and lista_media_humedad[1]>50:\n",
        "  print(\"Martes hay alta probabilidad de lluvia\")\n",
        "\n",
        "elif lista_media_temp[2] <25 and lista_media_humedad[2]>50:\n",
        "  print(\"Miercoles hay alta probabilidad de lluvia\")\n",
        "\n",
        "elif lista_media_temp[3] <25 and lista_media_humedad[3]>50:\n",
        "   print(\"Jueves hay alta probabilidad de lluvia\")\n",
        "\n",
        "elif lista_media_temp[4] <25 and lista_media_humedad[4]>50:\n",
        "    print(\"Viernes hay alta probabilidad de lluvia\")\n",
        "\n",
        "elif lista_media_temp[5] <25 and lista_media_humedad[5]>50:\n",
        "   print(\"Sábado hay alta probabilidad de lluvia\")\n",
        "\n",
        "elif lista_media_temp[6] <25 and lista_media_humedad[6]>50:\n",
        "  print(\"Domingo hay alta probabilidad de lluvia\")\n",
        "\n",
        "else:\n",
        "  print(\"No hay probabilidad de lluvia en la semana\")\n",
        "\n"
      ]
    },
    {
      "cell_type": "code",
      "source": [],
      "metadata": {
        "id": "sauExxSqoBvt"
      },
      "execution_count": null,
      "outputs": []
    }
  ]
}